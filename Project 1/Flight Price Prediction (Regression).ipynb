{
 "cells": [
  {
   "cell_type": "markdown",
   "id": "4fc1cb67",
   "metadata": {},
   "source": [
    "# Flight Price Prediction (Regression)\n",
    "\n",
    "In this project, I'm going to analyse and explore a dataset obtained from “Ease My Trip” website and to conduct various statistical hypothesis tests in order to get meaningful information from it. \n",
    "\n",
    ">  “Easemytrip“ is an internet platform for booking flight tickets, and hence a platform that potential passengers use to buy tickets. A thorough study of the data will aid in the discovery of valuable insights that will be of enormous value to passengers.\n",
    "\n",
    "The data will be used to make an accurate salary predictor but also to understand what influences prices.\n",
    "\n",
    "### Research Questions\n",
    "\n",
    "The aim of our study is to answer the below research questions:\n",
    "- Does price vary with Airlines?\n",
    "- How is the price affected when tickets are bought in just 1 or 2 days before departure?\n",
    "- Does ticket price change based on the departure time and arrival time?\n",
    "- How the price changes with change in Source and Destination?\n",
    "- How does the ticket price vary between Economy and Business class?"
   ]
  },
  {
   "cell_type": "markdown",
   "id": "5e41c71f",
   "metadata": {},
   "source": [
    "### Data collection and methodology\n",
    "\n",
    "Octoparse scraping tool was used to extract data from the website. Data was collected in two parts: one for economy class tickets and another for business class tickets. A total of 300261 distinct flight booking options was extracted from the site. Data was collected for 50 days, from February 11th to March 31st, 2022.\n",
    "Data source was secondary data and was collected from Ease my trip website.\n",
    "\n",
    "### Dataset\n",
    "\n",
    "Dataset contains information about flight booking options from the website Easemytrip for flight travel between India's top 6 metro cities. There are 300261 datapoints and 11 features in the cleaned dataset.\n",
    "\n",
    "### Features\n",
    "\n",
    "The various features of the cleaned dataset are explained below:\n",
    "1. *Airline*: The name of the airline company is stored in the airline column. It is a categorical feature having 6 different airlines.\n",
    "2. *Flight*: Flight stores information regarding the plane's flight code. It is a categorical feature.\n",
    "3. *Source City*: City from which the flight takes off. It is a categorical feature having 6 unique cities.\n",
    "4. *Departure Time*: This is a derived categorical feature obtained created by grouping time periods into bins. It stores information about the departure time and have 6 unique time labels.\n",
    "5. *Stops*: A categorical feature with 3 distinct values that stores the number of stops between the source and destination cities.\n",
    "6. *Arrival Time*: This is a derived categorical feature created by grouping time intervals into bins. It has six distinct time labels and keeps information about the arrival time.\n",
    "7. *Destination City*: City where the flight will land. It is a categorical feature having 6 unique cities.\n",
    "8. *Class*: A categorical feature that contains information on seat class; it has two distinct values: Business and Economy.\n",
    "9. *Duration*: A continuous feature that displays the overall amount of time it takes to travel between cities in hours.\n",
    "10.*Days Left*: This is a derived characteristic that is calculated by subtracting the trip date by the booking date.\n",
    "11. *Price*: Target variable stores information of the ticket price."
   ]
  },
  {
   "cell_type": "code",
   "execution_count": null,
   "id": "e86ec0ec",
   "metadata": {},
   "outputs": [],
   "source": []
  }
 ],
 "metadata": {
  "kernelspec": {
   "display_name": "Python 3 (ipykernel)",
   "language": "python",
   "name": "python3"
  },
  "language_info": {
   "codemirror_mode": {
    "name": "ipython",
    "version": 3
   },
   "file_extension": ".py",
   "mimetype": "text/x-python",
   "name": "python",
   "nbconvert_exporter": "python",
   "pygments_lexer": "ipython3",
   "version": "3.9.0"
  }
 },
 "nbformat": 4,
 "nbformat_minor": 5
}
